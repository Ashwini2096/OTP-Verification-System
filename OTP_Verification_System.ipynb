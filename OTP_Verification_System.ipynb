{
 "cells": [
  {
   "cell_type": "code",
   "execution_count": 1,
   "id": "4efb2480",
   "metadata": {},
   "outputs": [],
   "source": [
    "%%capture\n",
    "pip install secure-smtplib email"
   ]
  },
  {
   "cell_type": "code",
   "execution_count": 9,
   "id": "2af25054",
   "metadata": {},
   "outputs": [],
   "source": [
    "import random\n",
    "import smtplib\n",
    "import ssl\n",
    "from email.mime.text import MIMEText\n",
    "from email.mime.multipart import MIMEMultipart"
   ]
  },
  {
   "cell_type": "code",
   "execution_count": 10,
   "id": "c9aa9486",
   "metadata": {},
   "outputs": [],
   "source": [
    "# Function to generate a 6-digit OTP\n",
    "def generate_otp():\n",
    "    return str(random.randint(100000, 999999))"
   ]
  },
  {
   "cell_type": "code",
   "execution_count": 11,
   "id": "56c3ff29",
   "metadata": {},
   "outputs": [],
   "source": [
    "# Function to send OTP to the user's email address\n",
    "def send_otp_via_email(otp, user_email):\n",
    "    sender_email = \"ashu.khandare96@gmail.com\" \n",
    "    sender_password = \"qfpw sxwj iryk glbp\"  \n",
    "\n",
    "    # Create the email content\n",
    "    message = MIMEMultipart()\n",
    "    message[\"From\"] = sender_email\n",
    "    message[\"To\"] = user_email\n",
    "    message[\"Subject\"] = \"Your OTP Code\"\n",
    "\n",
    "    # The body and the attachments for the mail\n",
    "    body = f\"Your OTP code is {otp}\"\n",
    "    message.attach(MIMEText(body, \"plain\"))\n",
    "\n",
    "    # Connect to Gmail SMTP server and send email\n",
    "    smtp_server = \"smtp.gmail.com\"\n",
    "    port = 465  # For SSL\n",
    "\n",
    "    context = ssl.create_default_context()\n",
    "    try:\n",
    "        with smtplib.SMTP_SSL(smtp_server, port, context=context) as server:\n",
    "            server.login(sender_email, sender_password)\n",
    "            server.sendmail(sender_email, user_email, message.as_string())\n",
    "        print(\"OTP sent successfully!\")\n",
    "    except smtplib.SMTPAuthenticationError:\n",
    "        print(\"Failed to send OTP. Error: Authentication error. Please check your email credentials.\")\n",
    "    except smtplib.SMTPServerDisconnected:\n",
    "        print(\"Failed to send OTP. Error: Server unexpectedly disconnected.\")\n",
    "    except smtplib.SMTPException as e:\n",
    "        print(f\"Failed to send OTP. Error: {str(e)}\")\n"
   ]
  },
  {
   "cell_type": "code",
   "execution_count": 12,
   "id": "b69cc0d2",
   "metadata": {},
   "outputs": [],
   "source": [
    "# Function to prompt the user to enter the OTP\n",
    "def get_user_input():\n",
    "    return input(\"Enter the OTP sent to your email: \")"
   ]
  },
  {
   "cell_type": "code",
   "execution_count": 13,
   "id": "27d51415",
   "metadata": {},
   "outputs": [],
   "source": [
    "# Function to verify the entered OTP\n",
    "def verify_otp(generated_otp, entered_otp):\n",
    "    return generated_otp == entered_otp\n"
   ]
  },
  {
   "cell_type": "code",
   "execution_count": 14,
   "id": "9fdccc62",
   "metadata": {},
   "outputs": [
    {
     "name": "stdout",
     "output_type": "stream",
     "text": [
      "Enter your email address: akcreativeworld20@gmail.com\n",
      "OTP sent successfully!\n",
      "Enter the OTP sent to your email: 721115\n",
      "Access granted!\n"
     ]
    }
   ],
   "source": [
    "def main():\n",
    "    user_email = input(\"Enter your email address: \")\n",
    "    generated_otp = generate_otp()\n",
    "    send_otp_via_email(generated_otp, user_email)\n",
    "\n",
    "    # Allow user to retry entering OTP up to 3 times\n",
    "    attempts = 3\n",
    "    while attempts > 0:\n",
    "        entered_otp = get_user_input()\n",
    "        if verify_otp(generated_otp, entered_otp):\n",
    "            print(\"Access granted!\")\n",
    "            return\n",
    "        else:\n",
    "            attempts -= 1\n",
    "            print(f\"Incorrect OTP. You have {attempts} attempts left.\")\n",
    "\n",
    "    print(\"Access denied. Too many incorrect attempts.\")\n",
    "\n",
    "if __name__ == \"__main__\":\n",
    "    main()"
   ]
  },
  {
   "cell_type": "code",
   "execution_count": 15,
   "id": "aa01e9a6",
   "metadata": {},
   "outputs": [],
   "source": [
    "import tkinter as tk\n",
    "from tkinter import messagebox"
   ]
  },
  {
   "cell_type": "code",
   "execution_count": null,
   "id": "f654d8a2",
   "metadata": {},
   "outputs": [
    {
     "name": "stdout",
     "output_type": "stream",
     "text": [
      "OTP sent successfully!\n"
     ]
    }
   ],
   "source": [
    "class OTPVerificationApp:\n",
    "    def __init__(self, root):\n",
    "        self.root = root\n",
    "        self.root.title(\"OTP Verification System\")\n",
    "        \n",
    "        self.email_label = tk.Label(root, text=\"Enter your email address:\")\n",
    "        self.email_label.pack()\n",
    "        self.email_entry = tk.Entry(root)\n",
    "        self.email_entry.pack()\n",
    "        self.send_otp_button = tk.Button(root, text=\"Send OTP\", command=self.send_otp)\n",
    "        self.send_otp_button.pack()\n",
    "        \n",
    "        self.otp_label = tk.Label(root, text=\"Enter the OTP:\")\n",
    "        self.otp_label.pack()\n",
    "        self.otp_entry = tk.Entry(root)\n",
    "        self.otp_entry.pack()\n",
    "        self.verify_otp_button = tk.Button(root, text=\"Verify OTP\", command=self.verify_otp)\n",
    "        self.verify_otp_button.pack()\n",
    "\n",
    "    def send_otp(self):\n",
    "        self.user_email = self.email_entry.get()\n",
    "        self.generated_otp = generate_otp()\n",
    "        send_otp_via_email(self.generated_otp, self.user_email)\n",
    "        messagebox.showinfo(\"Info\", \"OTP sent to your email address.\")\n",
    "\n",
    "    def verify_otp(self):\n",
    "        entered_otp = self.otp_entry.get()\n",
    "        if verify_otp(self.generated_otp, entered_otp):\n",
    "            messagebox.showinfo(\"Success\", \"Access granted!\")\n",
    "        else:\n",
    "            messagebox.showerror(\"Error\", \"Incorrect OTP. Please try again.\")\n",
    "\n",
    "if __name__ == \"__main__\":\n",
    "    root = tk.Tk()\n",
    "    app = OTPVerificationApp(root)\n",
    "    root.mainloop()"
   ]
  },
  {
   "cell_type": "code",
   "execution_count": null,
   "id": "5bb85228",
   "metadata": {},
   "outputs": [],
   "source": []
  },
  {
   "cell_type": "code",
   "execution_count": null,
   "id": "5cad0efd",
   "metadata": {},
   "outputs": [],
   "source": []
  }
 ],
 "metadata": {
  "kernelspec": {
   "display_name": "Python 3 (ipykernel)",
   "language": "python",
   "name": "python3"
  },
  "language_info": {
   "codemirror_mode": {
    "name": "ipython",
    "version": 3
   },
   "file_extension": ".py",
   "mimetype": "text/x-python",
   "name": "python",
   "nbconvert_exporter": "python",
   "pygments_lexer": "ipython3",
   "version": "3.11.5"
  }
 },
 "nbformat": 4,
 "nbformat_minor": 5
}
